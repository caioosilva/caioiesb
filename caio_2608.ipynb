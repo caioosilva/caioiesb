{
  "nbformat": 4,
  "nbformat_minor": 0,
  "metadata": {
    "colab": {
      "name": "caio-2608.ipynb",
      "provenance": [],
      "authorship_tag": "ABX9TyPMqAlZFRoRA3SqzsRByUs5",
      "include_colab_link": true
    },
    "kernelspec": {
      "name": "python3",
      "display_name": "Python 3"
    }
  },
  "cells": [
    {
      "cell_type": "markdown",
      "metadata": {
        "id": "view-in-github",
        "colab_type": "text"
      },
      "source": [
        "<a href=\"https://colab.research.google.com/github/caioosilva/caioiesb/blob/master/caio_2608.ipynb\" target=\"_parent\"><img src=\"https://colab.research.google.com/assets/colab-badge.svg\" alt=\"Open In Colab\"/></a>"
      ]
    },
    {
      "cell_type": "code",
      "metadata": {
        "id": "YGpTXTf48F0B",
        "colab_type": "code",
        "colab": {
          "base_uri": "https://localhost:8080/",
          "height": 52
        },
        "outputId": "0b2c5d6f-4185-4e41-8be2-1003dc6d112f"
      },
      "source": [
        "print (\"hello world\")\n",
        "x=3**3\n",
        "print(x)"
      ],
      "execution_count": 4,
      "outputs": [
        {
          "output_type": "stream",
          "text": [
            "hello world\n",
            "27\n"
          ],
          "name": "stdout"
        }
      ]
    },
    {
      "cell_type": "code",
      "metadata": {
        "id": "pJqJ3nMj_1Ej",
        "colab_type": "code",
        "colab": {
          "base_uri": "https://localhost:8080/",
          "height": 35
        },
        "outputId": "d57c19d2-7ea8-4ac7-abcd-92210bf8c349"
      },
      "source": [
        "y=4**3\n",
        "print(y)"
      ],
      "execution_count": 6,
      "outputs": [
        {
          "output_type": "stream",
          "text": [
            "64\n"
          ],
          "name": "stdout"
        }
      ]
    },
    {
      "cell_type": "code",
      "metadata": {
        "id": "JNKbilSd_-Ng",
        "colab_type": "code",
        "colab": {
          "base_uri": "https://localhost:8080/",
          "height": 52
        },
        "outputId": "a542ce8f-2889-434c-8da2-6bd47c808e84"
      },
      "source": [
        "x = 30//12\n",
        "print(x)\n",
        "y= 30%12\n",
        "print(y)"
      ],
      "execution_count": 16,
      "outputs": [
        {
          "output_type": "stream",
          "text": [
            "2\n",
            "6\n"
          ],
          "name": "stdout"
        }
      ]
    },
    {
      "cell_type": "code",
      "metadata": {
        "id": "5WmvjZkmBb_s",
        "colab_type": "code",
        "colab": {
          "base_uri": "https://localhost:8080/",
          "height": 87
        },
        "outputId": "1dc79e8b-f54d-4d7b-9c12-531ed79e8880"
      },
      "source": [
        "var1 = 'texto1'\n",
        "var2 = 50\n",
        "var3 = 100/11\n",
        "var4 = 'tomeinobutico'\n",
        "print ( type(var1))\n",
        "print ( type(var2))\n",
        "print ( type(var3))\n",
        "print ( type(var4))"
      ],
      "execution_count": 23,
      "outputs": [
        {
          "output_type": "stream",
          "text": [
            "<class 'str'>\n",
            "<class 'int'>\n",
            "<class 'float'>\n",
            "<class 'str'>\n"
          ],
          "name": "stdout"
        }
      ]
    },
    {
      "cell_type": "code",
      "metadata": {
        "id": "yDWUxWKtHcbc",
        "colab_type": "code",
        "colab": {
          "base_uri": "https://localhost:8080/",
          "height": 52
        },
        "outputId": "30df25f3-8158-45be-9c0f-226d308ffb39"
      },
      "source": [
        "meutexto1='gemapel'\n",
        "meutexto2='bere'\n",
        "print (meutexto1,meutexto2)\n",
        "print (meutexto2)"
      ],
      "execution_count": 29,
      "outputs": [
        {
          "output_type": "stream",
          "text": [
            "gemapel bere\n",
            "bere\n"
          ],
          "name": "stdout"
        }
      ]
    }
  ]
}